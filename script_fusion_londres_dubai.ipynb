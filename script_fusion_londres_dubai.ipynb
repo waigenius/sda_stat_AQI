{
 "cells": [
  {
   "cell_type": "code",
   "execution_count": 9,
   "id": "f6c14be4",
   "metadata": {},
   "outputs": [],
   "source": [
    "import pandas as pd\n",
    "import numpy as np"
   ]
  },
  {
   "cell_type": "code",
   "execution_count": 10,
   "id": "8698b3be",
   "metadata": {},
   "outputs": [],
   "source": [
    "df_londres = pd.read_csv(\"df_final_london.csv\")\n",
    "df_dubai = pd.read_csv(\"df_final_dubai.csv\")"
   ]
  },
  {
   "cell_type": "code",
   "execution_count": 11,
   "id": "6edb7abf",
   "metadata": {},
   "outputs": [],
   "source": [
    "# Fusionner en empilant les lignes\n",
    "df_final = pd.concat([df_londres, df_dubai], ignore_index=True)"
   ]
  },
  {
   "cell_type": "code",
   "execution_count": 12,
   "id": "eb3b72cc",
   "metadata": {},
   "outputs": [],
   "source": [
    "df_final.to_csv(\"df_final_londres_dubai.csv\", index=False)"
   ]
  }
 ],
 "metadata": {
  "kernelspec": {
   "display_name": "datamanagement",
   "language": "python",
   "name": "python3"
  },
  "language_info": {
   "codemirror_mode": {
    "name": "ipython",
    "version": 3
   },
   "file_extension": ".py",
   "mimetype": "text/x-python",
   "name": "python",
   "nbconvert_exporter": "python",
   "pygments_lexer": "ipython3",
   "version": "3.12.3"
  }
 },
 "nbformat": 4,
 "nbformat_minor": 5
}
